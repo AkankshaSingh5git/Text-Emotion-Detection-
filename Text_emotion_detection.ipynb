{
  "cells": [
    {
      "cell_type": "markdown",
      "metadata": {
        "id": "view-in-github",
        "colab_type": "text"
      },
      "source": [
        "<a href=\"https://colab.research.google.com/github/AkankshaSingh5git/Text-Emotion-Detection-/blob/main/Text_emotion_detection.ipynb\" target=\"_parent\"><img src=\"https://colab.research.google.com/assets/colab-badge.svg\" alt=\"Open In Colab\"/></a>"
      ]
    },
    {
      "cell_type": "code",
      "execution_count": null,
      "metadata": {
        "colab": {
          "background_save": true,
          "base_uri": "https://localhost:8080/"
        },
        "id": "18lpdUketInV",
        "outputId": "4cc0f646-ffa9-4bc3-cd78-3684ca602e5f"
      },
      "outputs": [
        {
          "name": "stdout",
          "output_type": "stream",
          "text": [
            "\n",
            "Collecting usage statistics. To deactivate, set browser.gatherUsageStats to false.\n",
            "\u001b[0m\n",
            "\u001b[0m\n",
            "\u001b[34m\u001b[1m  You can now view your Streamlit app in your browser.\u001b[0m\n",
            "\u001b[0m\n",
            "\u001b[34m  Local URL: \u001b[0m\u001b[1mhttp://localhost:8501\u001b[0m\n",
            "\u001b[34m  Network URL: \u001b[0m\u001b[1mhttp://172.28.0.12:8501\u001b[0m\n",
            "\u001b[34m  External URL: \u001b[0m\u001b[1mhttp://35.229.135.55:8501\u001b[0m\n",
            "\u001b[0m\n"
          ]
        }
      ],
      "source": [
        "!streamlit run app.py"
      ]
    },
    {
      "cell_type": "code",
      "execution_count": null,
      "metadata": {
        "id": "PXDxX6DUuYPM"
      },
      "outputs": [],
      "source": [
        "!streamlit run app.py &"
      ]
    },
    {
      "cell_type": "code",
      "execution_count": null,
      "metadata": {
        "id": "kO6dHusDvSII"
      },
      "outputs": [],
      "source": [
        "!pip install streamlit"
      ]
    },
    {
      "cell_type": "code",
      "execution_count": null,
      "metadata": {
        "id": "G_VCSqFoveCK"
      },
      "outputs": [],
      "source": [
        "!streamlit run app.py &"
      ]
    },
    {
      "cell_type": "code",
      "execution_count": null,
      "metadata": {
        "id": "rH3gART-wLrN"
      },
      "outputs": [],
      "source": [
        "!streamlit run app.py &"
      ]
    },
    {
      "cell_type": "code",
      "execution_count": null,
      "metadata": {
        "id": "ceptt3f6wSUK"
      },
      "outputs": [],
      "source": [
        "!pip install pyngrok\n"
      ]
    },
    {
      "cell_type": "code",
      "execution_count": null,
      "metadata": {
        "id": "MqkzSHKixTtd"
      },
      "outputs": [],
      "source": [
        "from pyngrok import ngrok\n",
        "\n",
        "# Open a tunnel to the streamlit port 8501\n",
        "public_url = ngrok.connect(port=8501)\n",
        "print(f\"Streamlit URL: {public_url}\")\n",
        "\n",
        "!streamlit run app.py &\n"
      ]
    },
    {
      "cell_type": "code",
      "execution_count": null,
      "metadata": {
        "id": "VBFpgRUHxtoI"
      },
      "outputs": [],
      "source": [
        "!pip install pyngrok\n",
        "from pyngrok import conf, ngrok\n",
        "\n",
        "# Add your ngrok auth token (get it from https://dashboard.ngrok.com/get-started/setup)\n",
        "conf.get_default().auth_token = \"2yffRZWgFlrlnOzn6N0SOLwmhcn_6fmDSbdUXW9oXL8gXB765\"\n"
      ]
    },
    {
      "cell_type": "code",
      "execution_count": null,
      "metadata": {
        "id": "LIowjHucyFpQ"
      },
      "outputs": [],
      "source": [
        "# Start the streamlit app in the background\n",
        "\n",
        "# Create a tunnel to access the app\n",
        "public_url = ngrok.connect(8501)\n",
        "print(f\"Public URL: {public_url}\")\n"
      ]
    },
    {
      "cell_type": "code",
      "execution_count": null,
      "metadata": {
        "id": "Tqqu6qd9yMSx"
      },
      "outputs": [],
      "source": [
        "# Start the streamlit app in the background\n",
        "!streamlit run app.py &\n",
        "\n"
      ]
    },
    {
      "cell_type": "code",
      "execution_count": null,
      "metadata": {
        "id": "z84A9e-1D3jf"
      },
      "outputs": [],
      "source": [
        "!ls\n"
      ]
    },
    {
      "cell_type": "code",
      "execution_count": null,
      "metadata": {
        "id": "r2DSsllGz4n8"
      },
      "outputs": [],
      "source": [
        "!ls /content/drive/MyDrive/collab_project"
      ]
    },
    {
      "cell_type": "code",
      "execution_count": null,
      "metadata": {
        "id": "Crjaa6ivyZIS"
      },
      "outputs": [],
      "source": [
        "# ✅ 1. Mount Google Drive\n",
        "from google.colab import drive\n",
        "drive.mount('/content/drive')\n",
        "\n",
        "# ✅ 2. Change directory to your project\n",
        "%cd /content/drive/MyDrive/collab_project\n",
        "\n",
        "# ✅ 3. Install dependencies (only once if already installed)\n",
        "!pip install -q streamlit pyngrok\n",
        "\n",
        "# ✅ 4. Setup and run Streamlit with ngrok\n",
        "from pyngrok import ngrok\n",
        "ngrok.kill()  # Optional: Reset tunnels\n",
        "\n",
        "# Public URL for app\n",
        "public_url = ngrok.connect(8501)\n",
        "print(f\"🔗 Your App is Live at: {public_url}\")\n",
        "\n",
        "# ✅ 5. Run your app.py\n",
        "!streamlit run app.py &\n"
      ]
    },
    {
      "cell_type": "code",
      "execution_count": null,
      "metadata": {
        "id": "YftkxNbi0iiS"
      },
      "outputs": [],
      "source": [
        "!ls"
      ]
    },
    {
      "cell_type": "code",
      "execution_count": null,
      "metadata": {
        "id": "uK37L6jV49LZ"
      },
      "outputs": [],
      "source": [
        "!streamlit run app.py"
      ]
    },
    {
      "cell_type": "code",
      "execution_count": null,
      "metadata": {
        "id": "lKT3lbQ65EBx"
      },
      "outputs": [],
      "source": [
        "# ✅ 1. Mount Google Drive\n",
        "from google.colab import drive\n",
        "drive.mount('/content/drive')\n",
        "\n",
        "# ✅ 2. Change directory to your project\n",
        "%cd /content/drive/MyDrive/collab_project\n",
        "\n",
        "# ✅ 3. Install dependencies (only once if already installed)\n",
        "!pip install -q streamlit pyngrok\n",
        "\n",
        "# ✅ 4. Setup and run Streamlit with ngrok\n",
        "from pyngrok import ngrok\n",
        "ngrok.kill()  # Optional: Reset tunnels\n",
        "\n",
        "# Public URL for app\n",
        "public_url = ngrok.connect(8501)\n",
        "print(f\"🔗 Your App is Live at: {public_url}\")\n",
        "\n",
        "# ✅ 5. Run your app.py\n",
        "!streamlit run app.py &"
      ]
    },
    {
      "cell_type": "code",
      "execution_count": null,
      "metadata": {
        "id": "Lcpse4hs5OUT"
      },
      "outputs": [],
      "source": [
        "from google.colab import files\n",
        "uploaded=files.upload()"
      ]
    },
    {
      "cell_type": "code",
      "execution_count": null,
      "metadata": {
        "id": "3lo8tuzK59xa"
      },
      "outputs": [],
      "source": [
        "!mkdir -p model\n",
        "!mv text_emotion.pkl model/"
      ]
    },
    {
      "cell_type": "code",
      "execution_count": null,
      "metadata": {
        "id": "0z4Y6HJt6JVk"
      },
      "outputs": [],
      "source": [
        "# ✅ 1. Mount Google Drive\n",
        "from google.colab import drive\n",
        "drive.mount('/content/drive')\n",
        "\n",
        "# ✅ 2. Change directory to your project\n",
        "%cd /content/drive/MyDrive/collab_project\n",
        "\n",
        "# ✅ 3. Install dependencies (only once if already installed)\n",
        "!pip install -q streamlit pyngrok\n",
        "\n",
        "# ✅ 4. Setup and run Streamlit with ngrok\n",
        "from pyngrok import ngrok\n",
        "ngrok.kill()  # Optional: Reset tunnels\n",
        "\n",
        "# Public URL for app\n",
        "public_url = ngrok.connect(8501)\n",
        "print(f\"🔗 Your App is Live at: {public_url}\")\n",
        "\n",
        "# ✅ 5. Run your app.py\n",
        "!streamlit run app.py &"
      ]
    },
    {
      "cell_type": "code",
      "execution_count": null,
      "metadata": {
        "id": "O6W-4fQj6MwT"
      },
      "outputs": [],
      "source": []
    }
  ],
  "metadata": {
    "colab": {
      "provenance": [],
      "authorship_tag": "ABX9TyOZ88555m010IzMGNOT2xdo",
      "include_colab_link": true
    },
    "kernelspec": {
      "display_name": "Python 3",
      "name": "python3"
    },
    "language_info": {
      "name": "python"
    }
  },
  "nbformat": 4,
  "nbformat_minor": 0
}